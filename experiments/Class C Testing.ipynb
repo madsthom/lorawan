{
 "cells": [
  {
   "cell_type": "markdown",
   "id": "a119968d-f9e1-4a21-9e50-25fe4e77b80a",
   "metadata": {},
   "source": [
    "# SEM Installation\n",
    "\n",
    "To install SEM, uncomment and issue the following command:"
   ]
  },
  {
   "cell_type": "code",
   "execution_count": 1,
   "id": "525ea22a-1343-4557-ad97-97bf2f81837f",
   "metadata": {},
   "outputs": [],
   "source": [
    "#!pip3 install --user https://github.com/signetlabdei/sem/archive/develop.zip"
   ]
  },
  {
   "cell_type": "markdown",
   "id": "15c4a4e6-d5be-401b-8688-7b71723582f8",
   "metadata": {},
   "source": [
    "# Class C Testing"
   ]
  },
  {
   "cell_type": "code",
   "execution_count": 2,
   "id": "dcacd8cb-3037-45df-a132-4f4e954c8aef",
   "metadata": {},
   "outputs": [],
   "source": [
    "import sem\n",
    "import matplotlib.pyplot as plt\n",
    "import seaborn as sns\n",
    "from io import StringIO"
   ]
  },
  {
   "cell_type": "code",
   "execution_count": 3,
   "id": "1c35ba1d-6299-4e96-bfa0-576cca986264",
   "metadata": {},
   "outputs": [],
   "source": [
    "ns_path = \"../../../\"\n",
    "script = \"class-c-simple-network-example\"\n",
    "results_folder = \"class-c-testing\"\n",
    "\n",
    "campaign = sem.CampaignManager.new(ns_path,\n",
    "                                  script,\n",
    "                                  results_folder,\n",
    "                                  overwrite=True,\n",
    "                                   optimized=True,\n",
    "                                  check_repo=False,\n",
    "                                  max_parallel_processes=8)"
   ]
  },
  {
   "cell_type": "code",
   "execution_count": 4,
   "id": "d9531805-d0fb-4dd6-823d-65eb6fb9e298",
   "metadata": {},
   "outputs": [
    {
     "name": "stdout",
     "output_type": "stream",
     "text": [
      "--- Campaign info ---\n",
      "script: class-c-simple-network-example\n",
      "params: {'nGateways': 2.0}\n",
      "HEAD: \n",
      "Runner type: <class 'sem.parallelrunner.ParallelRunner'>\n",
      "-----------\n"
     ]
    }
   ],
   "source": [
    "print(campaign)"
   ]
  },
  {
   "cell_type": "code",
   "execution_count": 5,
   "id": "4f5bf2e3-5a42-4095-b3cb-e793fbde49d0",
   "metadata": {},
   "outputs": [
    {
     "name": "stderr",
     "output_type": "stream",
     "text": [
      "Running simulations: 100%|██████████| 3/3 [00:00<00:00, 22.97simulation/s]\n"
     ]
    }
   ],
   "source": [
    "params = {\n",
    "    'nGateways': [1, 2, 4],\n",
    "    'RngRun': [1]\n",
    "}\n",
    "campaign.run_missing_simulations(params)"
   ]
  },
  {
   "cell_type": "code",
   "execution_count": 6,
   "id": "b93e0ecf-a54f-4aaa-b9ea-4ebffc0c9d66",
   "metadata": {},
   "outputs": [],
   "source": [
    "example_result = campaign.db.get_complete_results()[0]"
   ]
  },
  {
   "cell_type": "code",
   "execution_count": 7,
   "id": "4ffa81ce-a277-47e8-b2cf-bfd39b59cbec",
   "metadata": {},
   "outputs": [],
   "source": [
    "#print(example_result['output']['EDStates'])"
   ]
  },
  {
   "cell_type": "code",
   "execution_count": 8,
   "id": "cbd11302-d7d1-4b81-b88d-0dccdc87e849",
   "metadata": {},
   "outputs": [],
   "source": [
    "#print(sem.utils.get_command_from_result(script, example_result, debug=True))"
   ]
  },
  {
   "cell_type": "code",
   "execution_count": 9,
   "id": "a2002eda-473b-42f7-b756-2c19ca08b4f8",
   "metadata": {},
   "outputs": [],
   "source": [
    "#print(example_result['output']['EDStates'])"
   ]
  },
  {
   "cell_type": "code",
   "execution_count": 10,
   "id": "96e406d4-66dd-4c3a-8d98-1c725e512113",
   "metadata": {},
   "outputs": [],
   "source": [
    "#print(example_result['output']['stderr'])"
   ]
  },
  {
   "cell_type": "code",
   "execution_count": 11,
   "id": "577322a8-1fee-4ddd-83e2-e306521cd41e",
   "metadata": {},
   "outputs": [],
   "source": [
    "status_map = {\n",
    "    0: \"Sleep\",\n",
    "    1: \"Standby\",\n",
    "    2: \"Tx\",\n",
    "    3: \"Rx\"\n",
    "}\n",
    "color_map = {\n",
    "    'Sleep': 'k',\n",
    "    'Standby': 'gray',\n",
    "    'Tx': 'blue',\n",
    "    'Rx': 'red'\n",
    "}\n",
    "status_label_map = {\n",
    "    'Sleep': '',\n",
    "    'Standby': '',\n",
    "    'Tx': 'Tx',\n",
    "    'Rx': 'Rx'\n",
    "}\n",
    "def plot_device_state(result):\n",
    "    old_time = 0\n",
    "    old_status = 'Sleep'\n",
    "    for row in result['output']['EDStates'].splitlines():\n",
    "        time = (float(row.split(\" \")[0]))/1e9\n",
    "        context = int(float(row.split(\" \")[1]))\n",
    "        status = status_map[int(float(row.split(\" \")[2]))]\n",
    "        plt.plot([old_time, time], [context, context], color_map[old_status])\n",
    "        if old_status == 'Tx' or old_status == 'Rx':\n",
    "            plt.scatter([(old_time)], [context], marker='x', color=color_map[old_status])\n",
    "        plt.text(time, context+0.001, status_label_map[status], size='small')\n",
    "        old_time = time\n",
    "        old_status = status"
   ]
  },
  {
   "cell_type": "code",
   "execution_count": 12,
   "id": "26738503-f9e4-4feb-9741-93870864cdb3",
   "metadata": {},
   "outputs": [
    {
     "data": {
      "application/vnd.jupyter.widget-view+json": {
       "model_id": "7bf4d63a1c8b4087bd5f13d04dede2d9",
       "version_major": 2,
       "version_minor": 0
      },
      "text/plain": [
       "Canvas(toolbar=Toolbar(toolitems=[('Home', 'Reset original view', 'home', 'home'), ('Back', 'Back to previous …"
      ]
     },
     "metadata": {},
     "output_type": "display_data"
    }
   ],
   "source": [
    "%matplotlib widget\n",
    "plot_device_state(example_result)\n",
    "plt.show()"
   ]
  },
  {
   "cell_type": "code",
   "execution_count": 13,
   "id": "c4aaa60e-0971-4ace-9492-63947e674fd3",
   "metadata": {},
   "outputs": [],
   "source": [
    "@sem.utils.output_labels(['Time [s]', 'Battery Level [%]'])\n",
    "@sem.utils.yields_multiple_results\n",
    "def get_battery_level(result):\n",
    "    samples = []\n",
    "    for row in result['output']['battery-level.txt'].splitlines():\n",
    "        if row:\n",
    "            time, battery = [float(i) for i in row.strip().split(\" \")]\n",
    "            samples += [[time, battery/1000*100]]\n",
    "    return samples"
   ]
  },
  {
   "cell_type": "code",
   "execution_count": 14,
   "id": "3fdb225c-6ad3-4997-9440-a6ab9abc8c65",
   "metadata": {},
   "outputs": [],
   "source": [
    "results = campaign.get_results_as_dataframe(get_battery_level)"
   ]
  },
  {
   "cell_type": "code",
   "execution_count": 15,
   "id": "b813740c-e1df-49bb-bfa1-2e51d783d3ec",
   "metadata": {},
   "outputs": [
    {
     "data": {
      "image/png": "[encoded data removed]",
      "text/plain": [
       "<Figure size 432x288 with 1 Axes>"
      ]
     },
     "metadata": {
      "needs_background": "light"
     },
     "output_type": "display_data"
    }
   ],
   "source": [
    "%matplotlib inline\n",
    "sns.lineplot(data=results,\n",
    "             x='Time [s]',\n",
    "             y='Battery Level [%]',\n",
    "            hue='nGateways')\n",
    "plt.title(\"Battery Level During Switch to Class C and FUOTA\")\n",
    "plt.savefig('battery-level.pdf', bbox_inches='tight')\n",
    "plt.show()"
   ]
  },
  {
   "cell_type": "code",
   "execution_count": 16,
   "id": "a5d98212-e65c-41ba-8bd4-67ef8bdb3790",
   "metadata": {},
   "outputs": [],
   "source": [
    "@sem.utils.output_labels(['Time [s]', 'Cumulative Received Bytes'])\n",
    "@sem.utils.yields_multiple_results\n",
    "def get_cumulative_bytes(result):\n",
    "    samples = []\n",
    "    running_sum = 0\n",
    "    for row in result['output']['ReceivedBytes'].splitlines():\n",
    "        time, context, received_bytes = [float(i) for i in row.strip().split(\" \")]\n",
    "        time = time/1e9\n",
    "        if context == 0.0:\n",
    "            running_sum += received_bytes\n",
    "            samples += [[time, running_sum]]\n",
    "    samples = [[0, 0], [samples[0][0]-0.001, 0]] + samples\n",
    "    samples += [[1000, running_sum]]\n",
    "    return samples"
   ]
  },
  {
   "cell_type": "code",
   "execution_count": 17,
   "id": "e6c90145-7bf9-4995-ad88-bec31be5fdac",
   "metadata": {},
   "outputs": [],
   "source": [
    "results = campaign.get_results_as_dataframe(get_cumulative_bytes)\n",
    "#print(results[results['nGateways']==1])"
   ]
  },
  {
   "cell_type": "code",
   "execution_count": 18,
   "id": "3cfb7b52-6e66-4768-ab74-a8021a7e94b0",
   "metadata": {},
   "outputs": [
    {
     "data": {
      "image/png": "[encoded data removed]",
      "text/plain": [
       "<Figure size 432x288 with 1 Axes>"
      ]
     },
     "metadata": {
      "needs_background": "light"
     },
     "output_type": "display_data"
    }
   ],
   "source": [
    "%matplotlib inline\n",
    "sns.lineplot(data=results,\n",
    "            x='Time [s]',\n",
    "            y='Cumulative Received Bytes',\n",
    "            hue='nGateways')\n",
    "plt.xlim([0, 600])\n",
    "plt.title(\"Firmware Transmission\")\n",
    "plt.savefig('cumulative-bytes.pdf', bbox_inches='tight')\n",
    "plt.show()"
   ]
  }
 ],
 "metadata": {
  "kernelspec": {
   "display_name": "Python 3",
   "language": "python",
   "name": "python3"
  },
  "language_info": {
   "codemirror_mode": {
    "name": "ipython",
    "version": 3
   },
   "file_extension": ".py",
   "mimetype": "text/x-python",
   "name": "python",
   "nbconvert_exporter": "python",
   "pygments_lexer": "ipython3",
   "version": "3.9.5"
  }
 },
 "nbformat": 4,
 "nbformat_minor": 5
}
