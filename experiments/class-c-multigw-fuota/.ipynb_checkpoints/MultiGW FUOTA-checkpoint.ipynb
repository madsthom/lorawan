{
 "cells": [
  {
   "cell_type": "markdown",
   "id": "6dea59ba-84a4-4bcf-9c03-d6ea183bc769",
   "metadata": {},
   "source": [
    "# Multi-GW FUOTA\n",
    "\n",
    "This notebook simulates a network comprised of multiple EDs and GWs, in which the EDs employ Class C to receive an update from multiple GWs whose transmissions are coordinated to limit the impact of Duty Cycle."
   ]
  },
  {
   "cell_type": "code",
   "execution_count": 1,
   "id": "940a4968-4183-4011-9005-a42002753f4a",
   "metadata": {},
   "outputs": [],
   "source": [
    "import sem\n",
    "import matplotlib.pyplot as plt\n",
    "import seaborn as sns\n",
    "import numpy as np\n",
    "from io import StringIO"
   ]
  },
  {
   "cell_type": "code",
   "execution_count": 2,
   "id": "b6fe16a7-4603-44ca-ab2b-2f46a31beef2",
   "metadata": {},
   "outputs": [
    {
     "name": "stderr",
     "output_type": "stream",
     "text": [
      "Building ns-3: 100%|██████████| 1510/1510 [00:02<00:00, 37.11file/s]\n"
     ]
    }
   ],
   "source": [
    "ns_path = \"../../../../\"\n",
    "script = \"class-c-scaled-up\"\n",
    "results_folder = \"class-c-testing\"\n",
    "\n",
    "campaign = sem.CampaignManager.new(ns_path,\n",
    "                                   script,\n",
    "                                   results_folder,\n",
    "                                   overwrite=True,\n",
    "                                   optimized=True,\n",
    "                                   check_repo=False,\n",
    "                                   max_parallel_processes=8)"
   ]
  },
  {
   "cell_type": "code",
   "execution_count": 3,
   "id": "3d12eee8-27cc-4062-8126-1d617dc9590f",
   "metadata": {},
   "outputs": [
    {
     "name": "stdout",
     "output_type": "stream",
     "text": [
      "--- Campaign info ---\n",
      "script: class-c-scaled-up\n",
      "params: {'nGateways': 2.0, 'nDevices': 1.0, 'radius': 10000.0}\n",
      "HEAD: \n",
      "Runner type: <class 'sem.parallelrunner.ParallelRunner'>\n",
      "-----------\n"
     ]
    }
   ],
   "source": [
    "print(campaign)"
   ]
  },
  {
   "cell_type": "code",
   "execution_count": null,
   "id": "125e7193-8fb0-4fe8-ac23-704fca8ae91d",
   "metadata": {},
   "outputs": [
    {
     "name": "stderr",
     "output_type": "stream",
     "text": [
      "Running simulations:   4%|▍         | 5/120 [00:08<03:44,  1.96s/simulation]"
     ]
    }
   ],
   "source": [
    "params = {\n",
    "    'nGateways': [1, 2, 4],\n",
    "    'nDevices': [1] + list(range(100, 400, 100)),\n",
    "    'radius': [20000]\n",
    "}\n",
    "campaign.run_missing_simulations(params, runs=20)"
   ]
  },
  {
   "cell_type": "code",
   "execution_count": null,
   "id": "fed2644a-e34b-4ce7-9031-2719490bc6ac",
   "metadata": {},
   "outputs": [],
   "source": [
    "example_result = campaign.db.get_complete_results({'nGateways': 2})[0]"
   ]
  },
  {
   "cell_type": "code",
   "execution_count": null,
   "id": "63c274aa-db8a-4917-a881-49142a96bded",
   "metadata": {},
   "outputs": [],
   "source": [
    "def plot_gateway_positions(result):\n",
    "    plt.figure(figsize=[6, 6])\n",
    "    gwpositions = np.loadtxt(StringIO(result['output']['gatewaypositions.txt']), delimiter=\":\")\n",
    "    for gw in np.atleast_2d(gwpositions):\n",
    "        plt.scatter(gw[0], gw[1])\n",
    "        for line in result['output']['ranges.txt'].splitlines():\n",
    "            circle = plt.Circle((gw[0], gw[1]), float(line), fill=False)\n",
    "            plt.gca().add_patch(circle)\n",
    "    plt.ylim([-result['params']['radius'], result['params']['radius']])\n",
    "    plt.xlim([-result['params']['radius'], result['params']['radius']])\n",
    "    plt.show()\n",
    "plot_gateway_positions(example_result)"
   ]
  },
  {
   "cell_type": "code",
   "execution_count": 7,
   "id": "c7a358c5-8742-4b9c-89e3-8333f1ee8d0a",
   "metadata": {},
   "outputs": [],
   "source": [
    "@sem.utils.output_labels(['Time [s]', 'ED', 'Cumulative Received Bytes'])\n",
    "@sem.utils.yields_multiple_results\n",
    "def get_cumulative_bytes(result):\n",
    "    samples = []\n",
    "    running_sum = [0 for _ in range(result['params']['nDevices'])]\n",
    "    for row in result['output']['ReceivedBytes'].splitlines():\n",
    "        time, context, received_bytes = [float(i) for i in row.strip().split(\" \")]\n",
    "        time = time/1e9\n",
    "        running_sum[int(context)] += received_bytes\n",
    "        samples += [[time, int(context), running_sum[int(context)]]]\n",
    "    return samples"
   ]
  },
  {
   "cell_type": "code",
   "execution_count": 8,
   "id": "3fe0851d-7927-45dc-aed6-80ee2c62889c",
   "metadata": {},
   "outputs": [],
   "source": [
    "results = campaign.get_results_as_dataframe(get_cumulative_bytes, params={'nDevices': 100,\n",
    "                                                                          'nGateways': 4})\n",
    "#print(results[results['nGateways']==1])"
   ]
  },
  {
   "cell_type": "code",
   "execution_count": 9,
   "id": "63ff1b1d-1e8e-4426-9da0-c9e37e03ec37",
   "metadata": {},
   "outputs": [
    {
     "data": {
      "text/html": [
       "<div>\n",
       "<style scoped>\n",
       "    .dataframe tbody tr th:only-of-type {\n",
       "        vertical-align: middle;\n",
       "    }\n",
       "\n",
       "    .dataframe tbody tr th {\n",
       "        vertical-align: top;\n",
       "    }\n",
       "\n",
       "    .dataframe thead th {\n",
       "        text-align: right;\n",
       "    }\n",
       "</style>\n",
       "<table border=\"1\" class=\"dataframe\">\n",
       "  <thead>\n",
       "    <tr style=\"text-align: right;\">\n",
       "      <th></th>\n",
       "      <th>nGateways</th>\n",
       "      <th>nDevices</th>\n",
       "      <th>radius</th>\n",
       "      <th>RngRun</th>\n",
       "      <th>Time [s]</th>\n",
       "      <th>ED</th>\n",
       "      <th>Cumulative Received Bytes</th>\n",
       "    </tr>\n",
       "  </thead>\n",
       "  <tbody>\n",
       "    <tr>\n",
       "      <th>0</th>\n",
       "      <td>4</td>\n",
       "      <td>100</td>\n",
       "      <td>10000</td>\n",
       "      <td>94</td>\n",
       "      <td>101.4828</td>\n",
       "      <td>91</td>\n",
       "      <td>20.0</td>\n",
       "    </tr>\n",
       "    <tr>\n",
       "      <th>1</th>\n",
       "      <td>4</td>\n",
       "      <td>100</td>\n",
       "      <td>10000</td>\n",
       "      <td>94</td>\n",
       "      <td>101.4828</td>\n",
       "      <td>29</td>\n",
       "      <td>20.0</td>\n",
       "    </tr>\n",
       "    <tr>\n",
       "      <th>2</th>\n",
       "      <td>4</td>\n",
       "      <td>100</td>\n",
       "      <td>10000</td>\n",
       "      <td>94</td>\n",
       "      <td>101.4828</td>\n",
       "      <td>76</td>\n",
       "      <td>20.0</td>\n",
       "    </tr>\n",
       "    <tr>\n",
       "      <th>3</th>\n",
       "      <td>4</td>\n",
       "      <td>100</td>\n",
       "      <td>10000</td>\n",
       "      <td>94</td>\n",
       "      <td>101.4828</td>\n",
       "      <td>85</td>\n",
       "      <td>20.0</td>\n",
       "    </tr>\n",
       "    <tr>\n",
       "      <th>4</th>\n",
       "      <td>4</td>\n",
       "      <td>100</td>\n",
       "      <td>10000</td>\n",
       "      <td>94</td>\n",
       "      <td>101.4828</td>\n",
       "      <td>16</td>\n",
       "      <td>20.0</td>\n",
       "    </tr>\n",
       "    <tr>\n",
       "      <th>...</th>\n",
       "      <td>...</td>\n",
       "      <td>...</td>\n",
       "      <td>...</td>\n",
       "      <td>...</td>\n",
       "      <td>...</td>\n",
       "      <td>...</td>\n",
       "      <td>...</td>\n",
       "    </tr>\n",
       "    <tr>\n",
       "      <th>8995</th>\n",
       "      <td>4</td>\n",
       "      <td>100</td>\n",
       "      <td>10000</td>\n",
       "      <td>99</td>\n",
       "      <td>135.4828</td>\n",
       "      <td>14</td>\n",
       "      <td>180.0</td>\n",
       "    </tr>\n",
       "    <tr>\n",
       "      <th>8996</th>\n",
       "      <td>4</td>\n",
       "      <td>100</td>\n",
       "      <td>10000</td>\n",
       "      <td>99</td>\n",
       "      <td>135.4828</td>\n",
       "      <td>88</td>\n",
       "      <td>180.0</td>\n",
       "    </tr>\n",
       "    <tr>\n",
       "      <th>8997</th>\n",
       "      <td>4</td>\n",
       "      <td>100</td>\n",
       "      <td>10000</td>\n",
       "      <td>99</td>\n",
       "      <td>135.4828</td>\n",
       "      <td>73</td>\n",
       "      <td>180.0</td>\n",
       "    </tr>\n",
       "    <tr>\n",
       "      <th>8998</th>\n",
       "      <td>4</td>\n",
       "      <td>100</td>\n",
       "      <td>10000</td>\n",
       "      <td>99</td>\n",
       "      <td>135.4828</td>\n",
       "      <td>57</td>\n",
       "      <td>180.0</td>\n",
       "    </tr>\n",
       "    <tr>\n",
       "      <th>8999</th>\n",
       "      <td>4</td>\n",
       "      <td>100</td>\n",
       "      <td>10000</td>\n",
       "      <td>99</td>\n",
       "      <td>135.4828</td>\n",
       "      <td>99</td>\n",
       "      <td>180.0</td>\n",
       "    </tr>\n",
       "  </tbody>\n",
       "</table>\n",
       "<p>9000 rows × 7 columns</p>\n",
       "</div>"
      ],
      "text/plain": [
       "      nGateways  nDevices  radius  RngRun  Time [s]  ED  \\\n",
       "0             4       100   10000      94  101.4828  91   \n",
       "1             4       100   10000      94  101.4828  29   \n",
       "2             4       100   10000      94  101.4828  76   \n",
       "3             4       100   10000      94  101.4828  85   \n",
       "4             4       100   10000      94  101.4828  16   \n",
       "...         ...       ...     ...     ...       ...  ..   \n",
       "8995          4       100   10000      99  135.4828  14   \n",
       "8996          4       100   10000      99  135.4828  88   \n",
       "8997          4       100   10000      99  135.4828  73   \n",
       "8998          4       100   10000      99  135.4828  57   \n",
       "8999          4       100   10000      99  135.4828  99   \n",
       "\n",
       "      Cumulative Received Bytes  \n",
       "0                          20.0  \n",
       "1                          20.0  \n",
       "2                          20.0  \n",
       "3                          20.0  \n",
       "4                          20.0  \n",
       "...                         ...  \n",
       "8995                      180.0  \n",
       "8996                      180.0  \n",
       "8997                      180.0  \n",
       "8998                      180.0  \n",
       "8999                      180.0  \n",
       "\n",
       "[9000 rows x 7 columns]"
      ]
     },
     "metadata": {},
     "output_type": "display_data"
    }
   ],
   "source": [
    "display(results)"
   ]
  },
  {
   "cell_type": "code",
   "execution_count": 10,
   "id": "e59028d7-8ccc-4a41-8c84-ff069118c0d0",
   "metadata": {},
   "outputs": [
    {
     "data": {
      "image/png": "[encoded data removed]",
      "text/plain": [
       "<Figure size 432x288 with 1 Axes>"
      ]
     },
     "metadata": {
      "needs_background": "light"
     },
     "output_type": "display_data"
    }
   ],
   "source": [
    "%matplotlib inline\n",
    "sns.lineplot(data=results[results['ED'] == 0],\n",
    "            x='Time [s]',\n",
    "            y='Cumulative Received Bytes',\n",
    "            hue='RngRun')\n",
    "plt.title(\"Firmware Transmission\")\n",
    "plt.savefig('cumulative-bytes.pdf', bbox_inches='tight')\n",
    "plt.show()"
   ]
  },
  {
   "cell_type": "code",
   "execution_count": 11,
   "id": "1bccbd7a-f77f-46e1-b4fe-aea13505eab1",
   "metadata": {},
   "outputs": [],
   "source": [
    "@sem.utils.yields_multiple_results\n",
    "@sem.utils.output_labels(['Time [s]', 'ED'])\n",
    "@sem.utils.only_load_some_files(['UpdateDownloadComplete'])\n",
    "def get_update_complete_times(result):\n",
    "    results = []\n",
    "    for line in result['output']['UpdateDownloadComplete'].splitlines():\n",
    "        time, ed = [float(i) for i in line.strip().split(\" \")]\n",
    "        results += [[time, ed]]\n",
    "    return results"
   ]
  },
  {
   "cell_type": "code",
   "execution_count": 12,
   "id": "d92ee888-f4b0-4655-9681-97a89916c8c1",
   "metadata": {},
   "outputs": [
    {
     "data": {
      "text/html": [
       "<div>\n",
       "<style scoped>\n",
       "    .dataframe tbody tr th:only-of-type {\n",
       "        vertical-align: middle;\n",
       "    }\n",
       "\n",
       "    .dataframe tbody tr th {\n",
       "        vertical-align: top;\n",
       "    }\n",
       "\n",
       "    .dataframe thead th {\n",
       "        text-align: right;\n",
       "    }\n",
       "</style>\n",
       "<table border=\"1\" class=\"dataframe\">\n",
       "  <thead>\n",
       "    <tr style=\"text-align: right;\">\n",
       "      <th></th>\n",
       "      <th>nGateways</th>\n",
       "      <th>nDevices</th>\n",
       "      <th>radius</th>\n",
       "      <th>RngRun</th>\n",
       "      <th>Time [s]</th>\n",
       "      <th>ED</th>\n",
       "    </tr>\n",
       "  </thead>\n",
       "  <tbody>\n",
       "    <tr>\n",
       "      <th>0</th>\n",
       "      <td>4</td>\n",
       "      <td>1</td>\n",
       "      <td>10000</td>\n",
       "      <td>86</td>\n",
       "      <td>131.4828</td>\n",
       "      <td>0.0</td>\n",
       "    </tr>\n",
       "    <tr>\n",
       "      <th>1</th>\n",
       "      <td>4</td>\n",
       "      <td>1</td>\n",
       "      <td>10000</td>\n",
       "      <td>80</td>\n",
       "      <td>163.4828</td>\n",
       "      <td>0.0</td>\n",
       "    </tr>\n",
       "    <tr>\n",
       "      <th>2</th>\n",
       "      <td>1</td>\n",
       "      <td>100</td>\n",
       "      <td>10000</td>\n",
       "      <td>16</td>\n",
       "      <td>227.4828</td>\n",
       "      <td>20.0</td>\n",
       "    </tr>\n",
       "    <tr>\n",
       "      <th>3</th>\n",
       "      <td>1</td>\n",
       "      <td>100</td>\n",
       "      <td>10000</td>\n",
       "      <td>16</td>\n",
       "      <td>227.4828</td>\n",
       "      <td>39.0</td>\n",
       "    </tr>\n",
       "    <tr>\n",
       "      <th>4</th>\n",
       "      <td>1</td>\n",
       "      <td>100</td>\n",
       "      <td>10000</td>\n",
       "      <td>16</td>\n",
       "      <td>227.4828</td>\n",
       "      <td>26.0</td>\n",
       "    </tr>\n",
       "    <tr>\n",
       "      <th>...</th>\n",
       "      <td>...</td>\n",
       "      <td>...</td>\n",
       "      <td>...</td>\n",
       "      <td>...</td>\n",
       "      <td>...</td>\n",
       "      <td>...</td>\n",
       "    </tr>\n",
       "    <tr>\n",
       "      <th>17307</th>\n",
       "      <td>2</td>\n",
       "      <td>300</td>\n",
       "      <td>10000</td>\n",
       "      <td>75</td>\n",
       "      <td>229.4828</td>\n",
       "      <td>110.0</td>\n",
       "    </tr>\n",
       "    <tr>\n",
       "      <th>17308</th>\n",
       "      <td>2</td>\n",
       "      <td>300</td>\n",
       "      <td>10000</td>\n",
       "      <td>75</td>\n",
       "      <td>229.4828</td>\n",
       "      <td>168.0</td>\n",
       "    </tr>\n",
       "    <tr>\n",
       "      <th>17309</th>\n",
       "      <td>2</td>\n",
       "      <td>300</td>\n",
       "      <td>10000</td>\n",
       "      <td>75</td>\n",
       "      <td>229.4828</td>\n",
       "      <td>144.0</td>\n",
       "    </tr>\n",
       "    <tr>\n",
       "      <th>17310</th>\n",
       "      <td>2</td>\n",
       "      <td>300</td>\n",
       "      <td>10000</td>\n",
       "      <td>75</td>\n",
       "      <td>229.4828</td>\n",
       "      <td>226.0</td>\n",
       "    </tr>\n",
       "    <tr>\n",
       "      <th>17311</th>\n",
       "      <td>2</td>\n",
       "      <td>300</td>\n",
       "      <td>10000</td>\n",
       "      <td>75</td>\n",
       "      <td>7453.4830</td>\n",
       "      <td>231.0</td>\n",
       "    </tr>\n",
       "  </tbody>\n",
       "</table>\n",
       "<p>17312 rows × 6 columns</p>\n",
       "</div>"
      ],
      "text/plain": [
       "       nGateways  nDevices  radius  RngRun   Time [s]     ED\n",
       "0              4         1   10000      86   131.4828    0.0\n",
       "1              4         1   10000      80   163.4828    0.0\n",
       "2              1       100   10000      16   227.4828   20.0\n",
       "3              1       100   10000      16   227.4828   39.0\n",
       "4              1       100   10000      16   227.4828   26.0\n",
       "...          ...       ...     ...     ...        ...    ...\n",
       "17307          2       300   10000      75   229.4828  110.0\n",
       "17308          2       300   10000      75   229.4828  168.0\n",
       "17309          2       300   10000      75   229.4828  144.0\n",
       "17310          2       300   10000      75   229.4828  226.0\n",
       "17311          2       300   10000      75  7453.4830  231.0\n",
       "\n",
       "[17312 rows x 6 columns]"
      ]
     },
     "metadata": {},
     "output_type": "display_data"
    }
   ],
   "source": [
    "results = campaign.get_results_as_dataframe(get_update_complete_times)\n",
    "display(results)"
   ]
  },
  {
   "cell_type": "code",
   "execution_count": 18,
   "id": "4aadfdc4-45c0-42b8-9ca6-6df9ccd01c74",
   "metadata": {},
   "outputs": [
    {
     "data": {
      "image/png": "[encoded data removed]",
      "text/plain": [
       "<Figure size 1080x360 with 3 Axes>"
      ]
     },
     "metadata": {
      "needs_background": "light"
     },
     "output_type": "display_data"
    }
   ],
   "source": [
    "%matplotlib inline\n",
    "sns.catplot(data=results,\n",
    "            x='nDevices',\n",
    "            y='Time [s]',\n",
    "            col='nGateways',\n",
    "            kind='boxen')\n",
    "plt.show()"
   ]
  },
  {
   "cell_type": "code",
   "execution_count": 17,
   "id": "f0cea5d5-7739-457e-a5a5-c1d9d2845d32",
   "metadata": {},
   "outputs": [
    {
     "data": {
      "image/png": "[encoded data removed]",
      "text/plain": [
       "<Figure size 1135.12x360 with 3 Axes>"
      ]
     },
     "metadata": {
      "needs_background": "light"
     },
     "output_type": "display_data"
    }
   ],
   "source": [
    "%matplotlib inline\n",
    "sns.displot(data=results,\n",
    "            x='Time [s]',\n",
    "            hue='nDevices',\n",
    "            col='nGateways',\n",
    "            kind='ecdf',\n",
    "           facet_kws={'sharex': False})\n",
    "plt.show()"
   ]
  }
 ],
 "metadata": {
  "kernelspec": {
   "display_name": "Python 3",
   "language": "python",
   "name": "python3"
  },
  "language_info": {
   "codemirror_mode": {
    "name": "ipython",
    "version": 3
   },
   "file_extension": ".py",
   "mimetype": "text/x-python",
   "name": "python",
   "nbconvert_exporter": "python",
   "pygments_lexer": "ipython3",
   "version": "3.9.5"
  }
 },
 "nbformat": 4,
 "nbformat_minor": 5
}
